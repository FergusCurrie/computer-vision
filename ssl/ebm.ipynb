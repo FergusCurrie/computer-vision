{
 "cells": [
  {
   "cell_type": "markdown",
   "id": "8ba7861c-3256-469b-958c-0354f1c01551",
   "metadata": {},
   "source": [
    "# Potential \n",
    "\n",
    "- sparse coding. lista (gergor and lecun 0210), ista\n",
    "- gan\n",
    "- knn\n",
    "- pca\n",
    "- kmeans \n",
    "- lv ebm on spiral "
   ]
  },
  {
   "cell_type": "code",
   "execution_count": null,
   "id": "881b1b95-737b-4a5e-ba7d-bce3c2337cf6",
   "metadata": {},
   "outputs": [],
   "source": []
  }
 ],
 "metadata": {
  "kernelspec": {
   "display_name": "Python 3 (ipykernel)",
   "language": "python",
   "name": "python3"
  },
  "language_info": {
   "codemirror_mode": {
    "name": "ipython",
    "version": 3
   },
   "file_extension": ".py",
   "mimetype": "text/x-python",
   "name": "python",
   "nbconvert_exporter": "python",
   "pygments_lexer": "ipython3",
   "version": "3.10.12"
  }
 },
 "nbformat": 4,
 "nbformat_minor": 5
}
